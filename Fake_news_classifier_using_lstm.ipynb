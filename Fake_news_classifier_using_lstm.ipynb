{
  "nbformat": 4,
  "nbformat_minor": 0,
  "metadata": {
    "colab": {
      "name": "Fake news classifier using lstm.ipynb",
      "provenance": [],
      "mount_file_id": "1wcpjLfJvIK9f5yiYG81FQjpoUu6FLz-p",
      "authorship_tag": "ABX9TyNnXdQ/3nOEKQ7w4nntcspz",
      "include_colab_link": true
    },
    "kernelspec": {
      "name": "python3",
      "display_name": "Python 3"
    },
    "language_info": {
      "name": "python"
    },
    "accelerator": "GPU"
  },
  "cells": [
    {
      "cell_type": "markdown",
      "metadata": {
        "id": "view-in-github",
        "colab_type": "text"
      },
      "source": [
        "<a href=\"https://colab.research.google.com/github/goelnaman66/py/blob/master/Fake_news_classifier_using_lstm.ipynb\" target=\"_parent\"><img src=\"https://colab.research.google.com/assets/colab-badge.svg\" alt=\"Open In Colab\"/></a>"
      ]
    },
    {
      "cell_type": "markdown",
      "metadata": {
        "id": "xsT1ymcMiv3L"
      },
      "source": [
        ""
      ]
    },
    {
      "cell_type": "markdown",
      "metadata": {
        "id": "unvCScoPixsI"
      },
      "source": [
        "**Word Embedding**\n",
        "\n",
        "---"
      ]
    },
    {
      "cell_type": "markdown",
      "metadata": {
        "id": "xvdwn6ujjYZg"
      },
      "source": [
        "one hot representation-\n",
        "suppose there are 10000 words in a dictionary and we want to represent man in the form of one hot representation. let the word man comes at 5000 position in the dictionary. then we will a get a vector of 10000 elements where at 5000 position we will get 1 and rest at all other positions we will get 0."
      ]
    },
    {
      "cell_type": "markdown",
      "metadata": {
        "id": "HDPzj_yvkGwn"
      },
      "source": [
        "it is very difficult to process this representation. it has a sparse matrix and it is very very long.\n",
        "word embedding relates the words to different features. This solves the problem of higher dimension and sparse matrix."
      ]
    },
    {
      "cell_type": "code",
      "metadata": {
        "id": "IJ_Il4jCj9fM"
      },
      "source": [
        "from tensorflow.keras.preprocessing.text import one_hot"
      ],
      "execution_count": 1,
      "outputs": []
    },
    {
      "cell_type": "markdown",
      "metadata": {
        "id": "qXA60MVglBEa"
      },
      "source": [
        ""
      ]
    },
    {
      "cell_type": "code",
      "metadata": {
        "id": "qAL2KqvWm996"
      },
      "source": [
        "sent = ['the glass of milk', 'the glass of juice', 'the cup of tea', 'I am a good boy', 'I am a good developer', 'understand the meaning of words','your videos are good']"
      ],
      "execution_count": 2,
      "outputs": []
    },
    {
      "cell_type": "code",
      "metadata": {
        "colab": {
          "base_uri": "https://localhost:8080/"
        },
        "id": "XrTcPMD_nVec",
        "outputId": "a1860b46-4194-46ab-ab39-268a0207d66b"
      },
      "source": [
        "sent"
      ],
      "execution_count": 3,
      "outputs": [
        {
          "output_type": "execute_result",
          "data": {
            "text/plain": [
              "['the glass of milk',\n",
              " 'the glass of juice',\n",
              " 'the cup of tea',\n",
              " 'I am a good boy',\n",
              " 'I am a good developer',\n",
              " 'understand the meaning of words',\n",
              " 'your videos are good']"
            ]
          },
          "metadata": {
            "tags": []
          },
          "execution_count": 3
        }
      ]
    },
    {
      "cell_type": "code",
      "metadata": {
        "id": "PxFzw6XsnWYt"
      },
      "source": [
        "#defining vocabulary size\n",
        "voc_size=10000"
      ],
      "execution_count": 4,
      "outputs": []
    },
    {
      "cell_type": "code",
      "metadata": {
        "colab": {
          "base_uri": "https://localhost:8080/"
        },
        "id": "4zKvyZbZnpyK",
        "outputId": "071307ad-7348-4444-ce71-d3f56182e37f"
      },
      "source": [
        "#one hot representation\n",
        "onehot_repr= [one_hot(words,voc_size) for words in sent]\n",
        "print(onehot_repr)"
      ],
      "execution_count": 5,
      "outputs": [
        {
          "output_type": "stream",
          "text": [
            "[[1476, 6018, 5522, 9299], [1476, 6018, 5522, 7145], [1476, 5335, 5522, 9460], [3094, 9660, 7087, 2945, 1738], [3094, 9660, 7087, 2945, 9207], [5946, 1476, 6741, 5522, 4606], [7006, 6432, 5978, 2945]]\n"
          ],
          "name": "stdout"
        }
      ]
    },
    {
      "cell_type": "code",
      "metadata": {
        "id": "ibIrjd_koBSn"
      },
      "source": [
        "#word embedding representation\n",
        "from tensorflow.keras.layers import Embedding\n",
        "from tensorflow.keras.preprocessing.sequence import pad_sequences\n",
        "from tensorflow.keras.models import Sequential"
      ],
      "execution_count": 6,
      "outputs": []
    },
    {
      "cell_type": "code",
      "metadata": {
        "id": "i2Lq50e3ou7a"
      },
      "source": [
        "import numpy as np"
      ],
      "execution_count": 7,
      "outputs": []
    },
    {
      "cell_type": "code",
      "metadata": {
        "colab": {
          "base_uri": "https://localhost:8080/"
        },
        "id": "5xjMRPy4oxy5",
        "outputId": "d5402d1c-653f-42aa-feca-d7efc9bf02b2"
      },
      "source": [
        "sent_len = 8\n",
        "embedded_docs = pad_sequences(onehot_repr,padding='pre',maxlen=sent_len)                 #padding\n",
        "print(embedded_docs)"
      ],
      "execution_count": 8,
      "outputs": [
        {
          "output_type": "stream",
          "text": [
            "[[   0    0    0    0 1476 6018 5522 9299]\n",
            " [   0    0    0    0 1476 6018 5522 7145]\n",
            " [   0    0    0    0 1476 5335 5522 9460]\n",
            " [   0    0    0 3094 9660 7087 2945 1738]\n",
            " [   0    0    0 3094 9660 7087 2945 9207]\n",
            " [   0    0    0 5946 1476 6741 5522 4606]\n",
            " [   0    0    0    0 7006 6432 5978 2945]]\n"
          ],
          "name": "stdout"
        }
      ]
    },
    {
      "cell_type": "code",
      "metadata": {
        "id": "hxCGPamtpNeH"
      },
      "source": [
        "dim = 10"
      ],
      "execution_count": 9,
      "outputs": []
    },
    {
      "cell_type": "code",
      "metadata": {
        "id": "i-adKS8Hpatc"
      },
      "source": [
        "model = Sequential()\n",
        "model.add(Embedding(voc_size, dim, input_length=sent_len))\n",
        "model.compile('adam','mse')"
      ],
      "execution_count": 10,
      "outputs": []
    },
    {
      "cell_type": "code",
      "metadata": {
        "colab": {
          "base_uri": "https://localhost:8080/"
        },
        "id": "-EF188GMpvG-",
        "outputId": "21f38510-e29d-454f-a083-2880f3ecdbf8"
      },
      "source": [
        "print(model.predict(embedded_docs))"
      ],
      "execution_count": 11,
      "outputs": [
        {
          "output_type": "stream",
          "text": [
            "[[[-0.03241712 -0.0060586   0.011621   -0.03802124  0.03491274\n",
            "    0.02898614 -0.01883304  0.04531899  0.01475023  0.03203214]\n",
            "  [-0.03241712 -0.0060586   0.011621   -0.03802124  0.03491274\n",
            "    0.02898614 -0.01883304  0.04531899  0.01475023  0.03203214]\n",
            "  [-0.03241712 -0.0060586   0.011621   -0.03802124  0.03491274\n",
            "    0.02898614 -0.01883304  0.04531899  0.01475023  0.03203214]\n",
            "  [-0.03241712 -0.0060586   0.011621   -0.03802124  0.03491274\n",
            "    0.02898614 -0.01883304  0.04531899  0.01475023  0.03203214]\n",
            "  [-0.01941458 -0.0099613   0.03426493  0.01854772  0.01687957\n",
            "    0.01700613 -0.02723798  0.02780083  0.02317324  0.02412896]\n",
            "  [ 0.00888895 -0.00967622  0.00861341  0.02431149  0.02689458\n",
            "   -0.01756133  0.04165791  0.00171471 -0.01455456  0.03140109]\n",
            "  [-0.01031067 -0.01561983 -0.00157914 -0.02607865 -0.0094296\n",
            "    0.00961578 -0.00421933  0.03660882  0.04618435  0.04334379]\n",
            "  [-0.04434557  0.02212913 -0.01753862 -0.04200346  0.01030074\n",
            "    0.00368569 -0.00326905  0.02328179 -0.02599709 -0.04922254]]\n",
            "\n",
            " [[-0.03241712 -0.0060586   0.011621   -0.03802124  0.03491274\n",
            "    0.02898614 -0.01883304  0.04531899  0.01475023  0.03203214]\n",
            "  [-0.03241712 -0.0060586   0.011621   -0.03802124  0.03491274\n",
            "    0.02898614 -0.01883304  0.04531899  0.01475023  0.03203214]\n",
            "  [-0.03241712 -0.0060586   0.011621   -0.03802124  0.03491274\n",
            "    0.02898614 -0.01883304  0.04531899  0.01475023  0.03203214]\n",
            "  [-0.03241712 -0.0060586   0.011621   -0.03802124  0.03491274\n",
            "    0.02898614 -0.01883304  0.04531899  0.01475023  0.03203214]\n",
            "  [-0.01941458 -0.0099613   0.03426493  0.01854772  0.01687957\n",
            "    0.01700613 -0.02723798  0.02780083  0.02317324  0.02412896]\n",
            "  [ 0.00888895 -0.00967622  0.00861341  0.02431149  0.02689458\n",
            "   -0.01756133  0.04165791  0.00171471 -0.01455456  0.03140109]\n",
            "  [-0.01031067 -0.01561983 -0.00157914 -0.02607865 -0.0094296\n",
            "    0.00961578 -0.00421933  0.03660882  0.04618435  0.04334379]\n",
            "  [-0.02476491  0.01616222  0.04248812 -0.0471033   0.03605196\n",
            "   -0.03031229  0.02727517  0.03982735  0.02585139  0.01888988]]\n",
            "\n",
            " [[-0.03241712 -0.0060586   0.011621   -0.03802124  0.03491274\n",
            "    0.02898614 -0.01883304  0.04531899  0.01475023  0.03203214]\n",
            "  [-0.03241712 -0.0060586   0.011621   -0.03802124  0.03491274\n",
            "    0.02898614 -0.01883304  0.04531899  0.01475023  0.03203214]\n",
            "  [-0.03241712 -0.0060586   0.011621   -0.03802124  0.03491274\n",
            "    0.02898614 -0.01883304  0.04531899  0.01475023  0.03203214]\n",
            "  [-0.03241712 -0.0060586   0.011621   -0.03802124  0.03491274\n",
            "    0.02898614 -0.01883304  0.04531899  0.01475023  0.03203214]\n",
            "  [-0.01941458 -0.0099613   0.03426493  0.01854772  0.01687957\n",
            "    0.01700613 -0.02723798  0.02780083  0.02317324  0.02412896]\n",
            "  [-0.01165377 -0.00543737  0.00483754  0.01177288  0.01586534\n",
            "    0.04168768 -0.00217114  0.01740645 -0.03965825  0.01408055]\n",
            "  [-0.01031067 -0.01561983 -0.00157914 -0.02607865 -0.0094296\n",
            "    0.00961578 -0.00421933  0.03660882  0.04618435  0.04334379]\n",
            "  [ 0.01460956  0.04869184  0.04544367 -0.04331285 -0.02913163\n",
            "    0.00186969 -0.02159938  0.04466519 -0.03076397 -0.00757989]]\n",
            "\n",
            " [[-0.03241712 -0.0060586   0.011621   -0.03802124  0.03491274\n",
            "    0.02898614 -0.01883304  0.04531899  0.01475023  0.03203214]\n",
            "  [-0.03241712 -0.0060586   0.011621   -0.03802124  0.03491274\n",
            "    0.02898614 -0.01883304  0.04531899  0.01475023  0.03203214]\n",
            "  [-0.03241712 -0.0060586   0.011621   -0.03802124  0.03491274\n",
            "    0.02898614 -0.01883304  0.04531899  0.01475023  0.03203214]\n",
            "  [ 0.00452801 -0.04477061  0.01030936  0.01205468 -0.0394481\n",
            "    0.01106843 -0.00358453  0.02291161 -0.00823512 -0.01787626]\n",
            "  [-0.04843005 -0.04983683  0.0389442  -0.02823465 -0.01343732\n",
            "   -0.02038107 -0.00684252  0.01901    -0.04854861  0.04964976]\n",
            "  [ 0.02411887 -0.0141231  -0.04303405  0.00484886  0.01524505\n",
            "    0.03534274  0.04177005  0.01593493  0.01527233  0.0410779 ]\n",
            "  [ 0.00627842 -0.04940747  0.04996535  0.03840227  0.01743758\n",
            "   -0.04602156 -0.00672799 -0.03261285 -0.04808109 -0.04776459]\n",
            "  [ 0.00565629  0.04814867 -0.02663599 -0.03012092 -0.01393785\n",
            "    0.04927695 -0.02904619 -0.04455199 -0.01652886 -0.02413924]]\n",
            "\n",
            " [[-0.03241712 -0.0060586   0.011621   -0.03802124  0.03491274\n",
            "    0.02898614 -0.01883304  0.04531899  0.01475023  0.03203214]\n",
            "  [-0.03241712 -0.0060586   0.011621   -0.03802124  0.03491274\n",
            "    0.02898614 -0.01883304  0.04531899  0.01475023  0.03203214]\n",
            "  [-0.03241712 -0.0060586   0.011621   -0.03802124  0.03491274\n",
            "    0.02898614 -0.01883304  0.04531899  0.01475023  0.03203214]\n",
            "  [ 0.00452801 -0.04477061  0.01030936  0.01205468 -0.0394481\n",
            "    0.01106843 -0.00358453  0.02291161 -0.00823512 -0.01787626]\n",
            "  [-0.04843005 -0.04983683  0.0389442  -0.02823465 -0.01343732\n",
            "   -0.02038107 -0.00684252  0.01901    -0.04854861  0.04964976]\n",
            "  [ 0.02411887 -0.0141231  -0.04303405  0.00484886  0.01524505\n",
            "    0.03534274  0.04177005  0.01593493  0.01527233  0.0410779 ]\n",
            "  [ 0.00627842 -0.04940747  0.04996535  0.03840227  0.01743758\n",
            "   -0.04602156 -0.00672799 -0.03261285 -0.04808109 -0.04776459]\n",
            "  [ 0.01249705 -0.04935937 -0.02832234 -0.03366949 -0.01126202\n",
            "    0.01460034 -0.02114852 -0.00920974 -0.00464053 -0.02890233]]\n",
            "\n",
            " [[-0.03241712 -0.0060586   0.011621   -0.03802124  0.03491274\n",
            "    0.02898614 -0.01883304  0.04531899  0.01475023  0.03203214]\n",
            "  [-0.03241712 -0.0060586   0.011621   -0.03802124  0.03491274\n",
            "    0.02898614 -0.01883304  0.04531899  0.01475023  0.03203214]\n",
            "  [-0.03241712 -0.0060586   0.011621   -0.03802124  0.03491274\n",
            "    0.02898614 -0.01883304  0.04531899  0.01475023  0.03203214]\n",
            "  [ 0.01944841  0.00755994 -0.01069708  0.01952716 -0.00580113\n",
            "   -0.0292419   0.01447197  0.00971384  0.04179676  0.01401186]\n",
            "  [-0.01941458 -0.0099613   0.03426493  0.01854772  0.01687957\n",
            "    0.01700613 -0.02723798  0.02780083  0.02317324  0.02412896]\n",
            "  [ 0.03111896  0.04006377  0.03971292  0.02030751 -0.00327407\n",
            "   -0.02255061 -0.01222559  0.0128609  -0.04902629  0.00886913]\n",
            "  [-0.01031067 -0.01561983 -0.00157914 -0.02607865 -0.0094296\n",
            "    0.00961578 -0.00421933  0.03660882  0.04618435  0.04334379]\n",
            "  [-0.01961333 -0.00051678  0.03384182 -0.03855938 -0.02409254\n",
            "    0.02457509  0.02565339  0.02554122 -0.02528977  0.04392307]]\n",
            "\n",
            " [[-0.03241712 -0.0060586   0.011621   -0.03802124  0.03491274\n",
            "    0.02898614 -0.01883304  0.04531899  0.01475023  0.03203214]\n",
            "  [-0.03241712 -0.0060586   0.011621   -0.03802124  0.03491274\n",
            "    0.02898614 -0.01883304  0.04531899  0.01475023  0.03203214]\n",
            "  [-0.03241712 -0.0060586   0.011621   -0.03802124  0.03491274\n",
            "    0.02898614 -0.01883304  0.04531899  0.01475023  0.03203214]\n",
            "  [-0.03241712 -0.0060586   0.011621   -0.03802124  0.03491274\n",
            "    0.02898614 -0.01883304  0.04531899  0.01475023  0.03203214]\n",
            "  [-0.00671935 -0.04693819 -0.02026165 -0.0370932  -0.02282778\n",
            "    0.01778319 -0.04408557  0.03732227  0.0109366   0.03772544]\n",
            "  [ 0.00766034  0.01697217 -0.01608042 -0.02822589  0.01824433\n",
            "    0.01656855  0.0149265   0.02373638  0.03140011 -0.01792032]\n",
            "  [ 0.03890762 -0.00723399  0.04099153  0.02082277 -0.02644427\n",
            "   -0.0304191  -0.02830994 -0.01526034 -0.0186291  -0.0089668 ]\n",
            "  [ 0.00627842 -0.04940747  0.04996535  0.03840227  0.01743758\n",
            "   -0.04602156 -0.00672799 -0.03261285 -0.04808109 -0.04776459]]]\n"
          ],
          "name": "stdout"
        }
      ]
    },
    {
      "cell_type": "code",
      "metadata": {
        "colab": {
          "base_uri": "https://localhost:8080/"
        },
        "id": "U5ZZuL3dp_k8",
        "outputId": "c496a7cd-ef20-46f2-cf9d-69def19347b0"
      },
      "source": [
        "embedded_docs[0]  #first sentence"
      ],
      "execution_count": 12,
      "outputs": [
        {
          "output_type": "execute_result",
          "data": {
            "text/plain": [
              "array([   0,    0,    0,    0, 1476, 6018, 5522, 9299], dtype=int32)"
            ]
          },
          "metadata": {
            "tags": []
          },
          "execution_count": 12
        }
      ]
    },
    {
      "cell_type": "code",
      "metadata": {
        "colab": {
          "base_uri": "https://localhost:8080/"
        },
        "id": "ygDnkIvwqI8W",
        "outputId": "6dde8d7d-c1ed-4dbd-eed9-ff5711eea0e3"
      },
      "source": [
        "# 0 will be converted to 10 features/dim vector\n",
        "# 0 will be converted to 10 features/dim vector\n",
        "# 0 will be converted to 10 features/dim vector\n",
        "# 0 will be converted to 10 features/dim vector\n",
        "# 5945 will be converted to 10 features/dim vector\n",
        "# 2999 will be converted to 10 features/dim vector\n",
        "# 3777 will be converted to 10 features/dim vector\n",
        "# 1072 will be converted to 10 features/dim vector\n",
        "print(model.predict(embedded_docs[0]))\n",
        "\n"
      ],
      "execution_count": 13,
      "outputs": [
        {
          "output_type": "stream",
          "text": [
            "WARNING:tensorflow:Model was constructed with shape (None, 8) for input KerasTensor(type_spec=TensorSpec(shape=(None, 8), dtype=tf.float32, name='embedding_input'), name='embedding_input', description=\"created by layer 'embedding_input'\"), but it was called on an input with incompatible shape (None, 1).\n",
            "[[[-0.03241712 -0.0060586   0.011621   -0.03802124  0.03491274\n",
            "    0.02898614 -0.01883304  0.04531899  0.01475023  0.03203214]]\n",
            "\n",
            " [[-0.03241712 -0.0060586   0.011621   -0.03802124  0.03491274\n",
            "    0.02898614 -0.01883304  0.04531899  0.01475023  0.03203214]]\n",
            "\n",
            " [[-0.03241712 -0.0060586   0.011621   -0.03802124  0.03491274\n",
            "    0.02898614 -0.01883304  0.04531899  0.01475023  0.03203214]]\n",
            "\n",
            " [[-0.03241712 -0.0060586   0.011621   -0.03802124  0.03491274\n",
            "    0.02898614 -0.01883304  0.04531899  0.01475023  0.03203214]]\n",
            "\n",
            " [[-0.01941458 -0.0099613   0.03426493  0.01854772  0.01687957\n",
            "    0.01700613 -0.02723798  0.02780083  0.02317324  0.02412896]]\n",
            "\n",
            " [[ 0.00888895 -0.00967622  0.00861341  0.02431149  0.02689458\n",
            "   -0.01756133  0.04165791  0.00171471 -0.01455456  0.03140109]]\n",
            "\n",
            " [[-0.01031067 -0.01561983 -0.00157914 -0.02607865 -0.0094296\n",
            "    0.00961578 -0.00421933  0.03660882  0.04618435  0.04334379]]\n",
            "\n",
            " [[-0.04434557  0.02212913 -0.01753862 -0.04200346  0.01030074\n",
            "    0.00368569 -0.00326905  0.02328179 -0.02599709 -0.04922254]]]\n"
          ],
          "name": "stdout"
        }
      ]
    },
    {
      "cell_type": "code",
      "metadata": {
        "id": "qFxzXtalqoAD"
      },
      "source": [
        "from tensorflow.keras.layers import LSTM"
      ],
      "execution_count": 14,
      "outputs": []
    },
    {
      "cell_type": "markdown",
      "metadata": {
        "id": "JTfwwxQk1vM8"
      },
      "source": [
        "fake news classifier using lstm\n",
        "\n",
        "---\n",
        "\n",
        "\n",
        "\n",
        "---\n",
        "\n"
      ]
    },
    {
      "cell_type": "code",
      "metadata": {
        "id": "NU6sbiEdsYKj"
      },
      "source": [
        "from tensorflow.keras.layers import Dense"
      ],
      "execution_count": 15,
      "outputs": []
    },
    {
      "cell_type": "code",
      "metadata": {
        "id": "wHmyS2P2sd6G"
      },
      "source": [
        "import pandas as pd\n"
      ],
      "execution_count": 16,
      "outputs": []
    },
    {
      "cell_type": "code",
      "metadata": {
        "id": "IddiCuJztwg2"
      },
      "source": [
        "df=pd.read_csv('/content/drive/MyDrive/train.csv')"
      ],
      "execution_count": 17,
      "outputs": []
    },
    {
      "cell_type": "code",
      "metadata": {
        "colab": {
          "base_uri": "https://localhost:8080/",
          "height": 419
        },
        "id": "6anE04E5t5Mb",
        "outputId": "a3b8dcc2-4095-487f-aece-ceec0c459c05"
      },
      "source": [
        "df"
      ],
      "execution_count": 18,
      "outputs": [
        {
          "output_type": "execute_result",
          "data": {
            "text/html": [
              "<div>\n",
              "<style scoped>\n",
              "    .dataframe tbody tr th:only-of-type {\n",
              "        vertical-align: middle;\n",
              "    }\n",
              "\n",
              "    .dataframe tbody tr th {\n",
              "        vertical-align: top;\n",
              "    }\n",
              "\n",
              "    .dataframe thead th {\n",
              "        text-align: right;\n",
              "    }\n",
              "</style>\n",
              "<table border=\"1\" class=\"dataframe\">\n",
              "  <thead>\n",
              "    <tr style=\"text-align: right;\">\n",
              "      <th></th>\n",
              "      <th>id</th>\n",
              "      <th>title</th>\n",
              "      <th>author</th>\n",
              "      <th>text</th>\n",
              "      <th>label</th>\n",
              "    </tr>\n",
              "  </thead>\n",
              "  <tbody>\n",
              "    <tr>\n",
              "      <th>0</th>\n",
              "      <td>0</td>\n",
              "      <td>House Dem Aide: We Didn’t Even See Comey’s Let...</td>\n",
              "      <td>Darrell Lucus</td>\n",
              "      <td>House Dem Aide: We Didn’t Even See Comey’s Let...</td>\n",
              "      <td>1</td>\n",
              "    </tr>\n",
              "    <tr>\n",
              "      <th>1</th>\n",
              "      <td>1</td>\n",
              "      <td>FLYNN: Hillary Clinton, Big Woman on Campus - ...</td>\n",
              "      <td>Daniel J. Flynn</td>\n",
              "      <td>Ever get the feeling your life circles the rou...</td>\n",
              "      <td>0</td>\n",
              "    </tr>\n",
              "    <tr>\n",
              "      <th>2</th>\n",
              "      <td>2</td>\n",
              "      <td>Why the Truth Might Get You Fired</td>\n",
              "      <td>Consortiumnews.com</td>\n",
              "      <td>Why the Truth Might Get You Fired October 29, ...</td>\n",
              "      <td>1</td>\n",
              "    </tr>\n",
              "    <tr>\n",
              "      <th>3</th>\n",
              "      <td>3</td>\n",
              "      <td>15 Civilians Killed In Single US Airstrike Hav...</td>\n",
              "      <td>Jessica Purkiss</td>\n",
              "      <td>Videos 15 Civilians Killed In Single US Airstr...</td>\n",
              "      <td>1</td>\n",
              "    </tr>\n",
              "    <tr>\n",
              "      <th>4</th>\n",
              "      <td>4</td>\n",
              "      <td>Iranian woman jailed for fictional unpublished...</td>\n",
              "      <td>Howard Portnoy</td>\n",
              "      <td>Print \\nAn Iranian woman has been sentenced to...</td>\n",
              "      <td>1</td>\n",
              "    </tr>\n",
              "    <tr>\n",
              "      <th>...</th>\n",
              "      <td>...</td>\n",
              "      <td>...</td>\n",
              "      <td>...</td>\n",
              "      <td>...</td>\n",
              "      <td>...</td>\n",
              "    </tr>\n",
              "    <tr>\n",
              "      <th>20795</th>\n",
              "      <td>20795</td>\n",
              "      <td>Rapper T.I.: Trump a ’Poster Child For White S...</td>\n",
              "      <td>Jerome Hudson</td>\n",
              "      <td>Rapper T. I. unloaded on black celebrities who...</td>\n",
              "      <td>0</td>\n",
              "    </tr>\n",
              "    <tr>\n",
              "      <th>20796</th>\n",
              "      <td>20796</td>\n",
              "      <td>N.F.L. Playoffs: Schedule, Matchups and Odds -...</td>\n",
              "      <td>Benjamin Hoffman</td>\n",
              "      <td>When the Green Bay Packers lost to the Washing...</td>\n",
              "      <td>0</td>\n",
              "    </tr>\n",
              "    <tr>\n",
              "      <th>20797</th>\n",
              "      <td>20797</td>\n",
              "      <td>Macy’s Is Said to Receive Takeover Approach by...</td>\n",
              "      <td>Michael J. de la Merced and Rachel Abrams</td>\n",
              "      <td>The Macy’s of today grew from the union of sev...</td>\n",
              "      <td>0</td>\n",
              "    </tr>\n",
              "    <tr>\n",
              "      <th>20798</th>\n",
              "      <td>20798</td>\n",
              "      <td>NATO, Russia To Hold Parallel Exercises In Bal...</td>\n",
              "      <td>Alex Ansary</td>\n",
              "      <td>NATO, Russia To Hold Parallel Exercises In Bal...</td>\n",
              "      <td>1</td>\n",
              "    </tr>\n",
              "    <tr>\n",
              "      <th>20799</th>\n",
              "      <td>20799</td>\n",
              "      <td>What Keeps the F-35 Alive</td>\n",
              "      <td>David Swanson</td>\n",
              "      <td>David Swanson is an author, activist, journa...</td>\n",
              "      <td>1</td>\n",
              "    </tr>\n",
              "  </tbody>\n",
              "</table>\n",
              "<p>20800 rows × 5 columns</p>\n",
              "</div>"
            ],
            "text/plain": [
              "          id  ... label\n",
              "0          0  ...     1\n",
              "1          1  ...     0\n",
              "2          2  ...     1\n",
              "3          3  ...     1\n",
              "4          4  ...     1\n",
              "...      ...  ...   ...\n",
              "20795  20795  ...     0\n",
              "20796  20796  ...     0\n",
              "20797  20797  ...     0\n",
              "20798  20798  ...     1\n",
              "20799  20799  ...     1\n",
              "\n",
              "[20800 rows x 5 columns]"
            ]
          },
          "metadata": {
            "tags": []
          },
          "execution_count": 18
        }
      ]
    },
    {
      "cell_type": "code",
      "metadata": {
        "id": "tggkCFSRt7EA"
      },
      "source": [
        "df=df.dropna()"
      ],
      "execution_count": 19,
      "outputs": []
    },
    {
      "cell_type": "code",
      "metadata": {
        "id": "uMMaI_WguDc9"
      },
      "source": [
        "df=df.reset_index()"
      ],
      "execution_count": 20,
      "outputs": []
    },
    {
      "cell_type": "code",
      "metadata": {
        "id": "jUk6yL7NuIlk"
      },
      "source": [
        "X = df.drop('label',axis=1)"
      ],
      "execution_count": 21,
      "outputs": []
    },
    {
      "cell_type": "code",
      "metadata": {
        "id": "nqr9eL2LuOMS"
      },
      "source": [
        "y=df['label']"
      ],
      "execution_count": 22,
      "outputs": []
    },
    {
      "cell_type": "code",
      "metadata": {
        "colab": {
          "base_uri": "https://localhost:8080/"
        },
        "id": "jFx0EgEnuRVL",
        "outputId": "d2aefe5e-18cf-4fed-d140-ead74aa1c9ae"
      },
      "source": [
        "X.shape"
      ],
      "execution_count": 23,
      "outputs": [
        {
          "output_type": "execute_result",
          "data": {
            "text/plain": [
              "(18285, 5)"
            ]
          },
          "metadata": {
            "tags": []
          },
          "execution_count": 23
        }
      ]
    },
    {
      "cell_type": "code",
      "metadata": {
        "colab": {
          "base_uri": "https://localhost:8080/"
        },
        "id": "esR1d3ozuXrA",
        "outputId": "1a229d35-5abc-454b-f1ff-a19033942018"
      },
      "source": [
        "df.shape"
      ],
      "execution_count": 24,
      "outputs": [
        {
          "output_type": "execute_result",
          "data": {
            "text/plain": [
              "(18285, 6)"
            ]
          },
          "metadata": {
            "tags": []
          },
          "execution_count": 24
        }
      ]
    },
    {
      "cell_type": "code",
      "metadata": {
        "id": "-AOHvxAFuorL"
      },
      "source": [
        "import tensorflow as tf"
      ],
      "execution_count": 25,
      "outputs": []
    },
    {
      "cell_type": "code",
      "metadata": {
        "colab": {
          "base_uri": "https://localhost:8080/",
          "height": 35
        },
        "id": "DVt3MreHuuL2",
        "outputId": "0ff5fc1a-0bf2-4814-acbc-69bdcf2c898d"
      },
      "source": [
        "tf.__version__"
      ],
      "execution_count": 26,
      "outputs": [
        {
          "output_type": "execute_result",
          "data": {
            "application/vnd.google.colaboratory.intrinsic+json": {
              "type": "string"
            },
            "text/plain": [
              "'2.5.0'"
            ]
          },
          "metadata": {
            "tags": []
          },
          "execution_count": 26
        }
      ]
    },
    {
      "cell_type": "code",
      "metadata": {
        "id": "sZa7RAhcuxJ8"
      },
      "source": [
        "#vocabulary size\n",
        "voc_size=5000"
      ],
      "execution_count": 27,
      "outputs": []
    },
    {
      "cell_type": "code",
      "metadata": {
        "id": "kzohYT05u2ja"
      },
      "source": [
        "import nltk\n",
        "import re\n",
        "from nltk.corpus import stopwords"
      ],
      "execution_count": 28,
      "outputs": []
    },
    {
      "cell_type": "code",
      "metadata": {
        "colab": {
          "base_uri": "https://localhost:8080/"
        },
        "id": "c1mYV0oxvHaA",
        "outputId": "6de6f1aa-6416-4533-b149-d57ce74943bd"
      },
      "source": [
        "nltk.download('stopwords')"
      ],
      "execution_count": 29,
      "outputs": [
        {
          "output_type": "stream",
          "text": [
            "[nltk_data] Downloading package stopwords to /root/nltk_data...\n",
            "[nltk_data]   Unzipping corpora/stopwords.zip.\n"
          ],
          "name": "stdout"
        },
        {
          "output_type": "execute_result",
          "data": {
            "text/plain": [
              "True"
            ]
          },
          "metadata": {
            "tags": []
          },
          "execution_count": 29
        }
      ]
    },
    {
      "cell_type": "code",
      "metadata": {
        "id": "GQTzFmOMveps"
      },
      "source": [
        "###datapreprocessing\n",
        "from nltk.stem.porter import PorterStemmer\n",
        "ps = PorterStemmer()\n",
        "corpus = []\n",
        "messages=X.copy()"
      ],
      "execution_count": 30,
      "outputs": []
    },
    {
      "cell_type": "code",
      "metadata": {
        "id": "VzngYXU0vzNn"
      },
      "source": [
        "for i in range(0, len(messages)):\n",
        "  \n",
        "  review = re.sub('[^a-zA-Z]', ' ', messages['title'][i]) #substituting everything apart from a-z A-Z by blank space\n",
        "  review= review.lower()                                 #lowering of words\n",
        "  review = review.split()\n",
        "  review= [ps.stem(word) for word in review if not word in stopwords.words('english')]\n",
        "  review= ' '.join(review)\n",
        "  corpus.append(review)"
      ],
      "execution_count": 31,
      "outputs": []
    },
    {
      "cell_type": "code",
      "metadata": {
        "colab": {
          "base_uri": "https://localhost:8080/"
        },
        "id": "4D7dpKQ0xa0g",
        "outputId": "fcc11eec-ee49-454d-e362-14076d565cec"
      },
      "source": [
        "m=messages['title'][0]\n",
        "print(m)\n",
        "m=re.sub('[^a-zA-Z]',' ',m)\n",
        "print(m)"
      ],
      "execution_count": 32,
      "outputs": [
        {
          "output_type": "stream",
          "text": [
            "House Dem Aide: We Didn’t Even See Comey’s Letter Until Jason Chaffetz Tweeted It\n",
            "House Dem Aide  We Didn t Even See Comey s Letter Until Jason Chaffetz Tweeted It\n"
          ],
          "name": "stdout"
        }
      ]
    },
    {
      "cell_type": "code",
      "metadata": {
        "colab": {
          "base_uri": "https://localhost:8080/"
        },
        "id": "1WrmzlaGxmGy",
        "outputId": "6f4c3394-2fd6-4856-a23b-b63bdd3e0e0a"
      },
      "source": [
        "m=m.lower()\n",
        "print(m)\n",
        "m=m.split()\n",
        "print(m)"
      ],
      "execution_count": 33,
      "outputs": [
        {
          "output_type": "stream",
          "text": [
            "house dem aide  we didn t even see comey s letter until jason chaffetz tweeted it\n",
            "['house', 'dem', 'aide', 'we', 'didn', 't', 'even', 'see', 'comey', 's', 'letter', 'until', 'jason', 'chaffetz', 'tweeted', 'it']\n"
          ],
          "name": "stdout"
        }
      ]
    },
    {
      "cell_type": "code",
      "metadata": {
        "colab": {
          "base_uri": "https://localhost:8080/"
        },
        "id": "XwN1pXDEyRjC",
        "outputId": "350df968-ca37-4844-aeab-722e7305531c"
      },
      "source": [
        "m= [ps.stem(word) for word in m if not word in stopwords.words('english')]\n",
        "print(m)"
      ],
      "execution_count": 34,
      "outputs": [
        {
          "output_type": "stream",
          "text": [
            "['hous', 'dem', 'aid', 'even', 'see', 'comey', 'letter', 'jason', 'chaffetz', 'tweet']\n"
          ],
          "name": "stdout"
        }
      ]
    },
    {
      "cell_type": "code",
      "metadata": {
        "colab": {
          "base_uri": "https://localhost:8080/"
        },
        "id": "3AbsaiWwygIk",
        "outputId": "14847b16-c9bd-4a73-f011-ce7c8b330579"
      },
      "source": [
        "m = ' '.join(m)\n",
        "print(m)"
      ],
      "execution_count": 35,
      "outputs": [
        {
          "output_type": "stream",
          "text": [
            "hous dem aid even see comey letter jason chaffetz tweet\n"
          ],
          "name": "stdout"
        }
      ]
    },
    {
      "cell_type": "code",
      "metadata": {
        "colab": {
          "base_uri": "https://localhost:8080/"
        },
        "id": "7iHm9UFYyumR",
        "outputId": "9af12451-6192-408f-ed30-f2b6c6f18387"
      },
      "source": [
        "corpus[:5]"
      ],
      "execution_count": 36,
      "outputs": [
        {
          "output_type": "execute_result",
          "data": {
            "text/plain": [
              "['hous dem aid even see comey letter jason chaffetz tweet',\n",
              " 'flynn hillari clinton big woman campu breitbart',\n",
              " 'truth might get fire',\n",
              " 'civilian kill singl us airstrik identifi',\n",
              " 'iranian woman jail fiction unpublish stori woman stone death adulteri']"
            ]
          },
          "metadata": {
            "tags": []
          },
          "execution_count": 36
        }
      ]
    },
    {
      "cell_type": "code",
      "metadata": {
        "colab": {
          "base_uri": "https://localhost:8080/"
        },
        "id": "1IPXVmTkz1xW",
        "outputId": "ba864648-afe7-4358-a00b-4cf8f9148851"
      },
      "source": [
        "#one hot representation\n",
        "onehot_repr= [one_hot(words,voc_size) for words in corpus]\n",
        "print(onehot_repr[0])"
      ],
      "execution_count": 37,
      "outputs": [
        {
          "output_type": "stream",
          "text": [
            "[526, 833, 1374, 4614, 4538, 4455, 4736, 4704, 984, 2316]\n"
          ],
          "name": "stdout"
        }
      ]
    },
    {
      "cell_type": "code",
      "metadata": {
        "colab": {
          "base_uri": "https://localhost:8080/"
        },
        "id": "67qJ5GHy0Fr8",
        "outputId": "8d0755d6-9ec9-4c9a-887b-2c44d94b41a2"
      },
      "source": [
        "sent_len = 20\n",
        "embedded_docs = pad_sequences(onehot_repr,padding='pre',maxlen=sent_len)                 #padding\n",
        "print(embedded_docs)"
      ],
      "execution_count": 38,
      "outputs": [
        {
          "output_type": "stream",
          "text": [
            "[[   0    0    0 ... 4704  984 2316]\n",
            " [   0    0    0 ...  960 3664  956]\n",
            " [   0    0    0 ... 1084 4944  997]\n",
            " ...\n",
            " [   0    0    0 ... 2406 1512 3695]\n",
            " [   0    0    0 ... 2668  294 4446]\n",
            " [   0    0    0 ... 4385 3006 3837]]\n"
          ],
          "name": "stdout"
        }
      ]
    },
    {
      "cell_type": "code",
      "metadata": {
        "colab": {
          "base_uri": "https://localhost:8080/"
        },
        "id": "BY_XdDix0SNx",
        "outputId": "52fd0a46-e371-416f-c746-8e13b0032cf1"
      },
      "source": [
        "len(embedded_docs)"
      ],
      "execution_count": 39,
      "outputs": [
        {
          "output_type": "execute_result",
          "data": {
            "text/plain": [
              "18285"
            ]
          },
          "metadata": {
            "tags": []
          },
          "execution_count": 39
        }
      ]
    },
    {
      "cell_type": "code",
      "metadata": {
        "colab": {
          "base_uri": "https://localhost:8080/"
        },
        "id": "_EiZmSv90Yam",
        "outputId": "075e9e4f-95fe-4e63-d83e-38bc38036cab"
      },
      "source": [
        "dim=40\n",
        "model = Sequential()\n",
        "model.add(Embedding(voc_size, dim, input_length=sent_len))\n",
        "model.add(LSTM(100))\n",
        "model.add(Dense(1, activation='sigmoid'))\n",
        "model.compile(loss='binary_crossentropy',optimizer='adam',metrics=['accuracy'])\n",
        "print(model.summary())"
      ],
      "execution_count": 40,
      "outputs": [
        {
          "output_type": "stream",
          "text": [
            "Model: \"sequential_1\"\n",
            "_________________________________________________________________\n",
            "Layer (type)                 Output Shape              Param #   \n",
            "=================================================================\n",
            "embedding_1 (Embedding)      (None, 20, 40)            200000    \n",
            "_________________________________________________________________\n",
            "lstm (LSTM)                  (None, 100)               56400     \n",
            "_________________________________________________________________\n",
            "dense (Dense)                (None, 1)                 101       \n",
            "=================================================================\n",
            "Total params: 256,501\n",
            "Trainable params: 256,501\n",
            "Non-trainable params: 0\n",
            "_________________________________________________________________\n",
            "None\n"
          ],
          "name": "stdout"
        }
      ]
    },
    {
      "cell_type": "markdown",
      "metadata": {
        "id": "u-6qnRoD1-rJ"
      },
      "source": [
        "Training the model"
      ]
    },
    {
      "cell_type": "code",
      "metadata": {
        "id": "4HLjAtfr3EJY"
      },
      "source": [
        "X=np.array(embedded_docs)\n",
        "y=np.array(y)"
      ],
      "execution_count": 41,
      "outputs": []
    },
    {
      "cell_type": "code",
      "metadata": {
        "id": "i1Sr9MBH1F6F"
      },
      "source": [
        "from sklearn.model_selection import train_test_split\n",
        "X_train, X_test, y_train, y_test= train_test_split(X,y,test_size=0.33,random_state=42)\n"
      ],
      "execution_count": 42,
      "outputs": []
    },
    {
      "cell_type": "code",
      "metadata": {
        "colab": {
          "base_uri": "https://localhost:8080/"
        },
        "id": "3TNgWkeo2iJ2",
        "outputId": "f24ad824-18c5-4434-f4dd-c63669f24be9"
      },
      "source": [
        "model.fit(X_train,y_train, validation_data=(X_test,y_test), epochs=10, batch_size=64)"
      ],
      "execution_count": 43,
      "outputs": [
        {
          "output_type": "stream",
          "text": [
            "Epoch 1/10\n",
            "192/192 [==============================] - 10s 10ms/step - loss: 0.3357 - accuracy: 0.8392 - val_loss: 0.1973 - val_accuracy: 0.9142\n",
            "Epoch 2/10\n",
            "192/192 [==============================] - 2s 8ms/step - loss: 0.1391 - accuracy: 0.9459 - val_loss: 0.2032 - val_accuracy: 0.9114\n",
            "Epoch 3/10\n",
            "192/192 [==============================] - 2s 8ms/step - loss: 0.0977 - accuracy: 0.9638 - val_loss: 0.2244 - val_accuracy: 0.9145\n",
            "Epoch 4/10\n",
            "192/192 [==============================] - 2s 8ms/step - loss: 0.0632 - accuracy: 0.9778 - val_loss: 0.2778 - val_accuracy: 0.9118\n",
            "Epoch 5/10\n",
            "192/192 [==============================] - 2s 9ms/step - loss: 0.0406 - accuracy: 0.9869 - val_loss: 0.2652 - val_accuracy: 0.9117\n",
            "Epoch 6/10\n",
            "192/192 [==============================] - 2s 8ms/step - loss: 0.0263 - accuracy: 0.9926 - val_loss: 0.3517 - val_accuracy: 0.9069\n",
            "Epoch 7/10\n",
            "192/192 [==============================] - 2s 8ms/step - loss: 0.0164 - accuracy: 0.9953 - val_loss: 0.4337 - val_accuracy: 0.9037\n",
            "Epoch 8/10\n",
            "192/192 [==============================] - 2s 8ms/step - loss: 0.0096 - accuracy: 0.9976 - val_loss: 0.5370 - val_accuracy: 0.9115\n",
            "Epoch 9/10\n",
            "192/192 [==============================] - 2s 8ms/step - loss: 0.0055 - accuracy: 0.9989 - val_loss: 0.5579 - val_accuracy: 0.9100\n",
            "Epoch 10/10\n",
            "192/192 [==============================] - 2s 8ms/step - loss: 0.0040 - accuracy: 0.9992 - val_loss: 0.5200 - val_accuracy: 0.9084\n"
          ],
          "name": "stdout"
        },
        {
          "output_type": "execute_result",
          "data": {
            "text/plain": [
              "<tensorflow.python.keras.callbacks.History at 0x7f31001b4d10>"
            ]
          },
          "metadata": {
            "tags": []
          },
          "execution_count": 43
        }
      ]
    },
    {
      "cell_type": "markdown",
      "metadata": {
        "id": "kjo5_yhJ3fKU"
      },
      "source": [
        "Predicting the results"
      ]
    },
    {
      "cell_type": "code",
      "metadata": {
        "colab": {
          "base_uri": "https://localhost:8080/"
        },
        "id": "X8q0l_bZ20oC",
        "outputId": "0cb7d5b4-cb95-4d1a-bf25-6aaacb6772cb"
      },
      "source": [
        "y_pred=model.predict_classes(X_test)"
      ],
      "execution_count": 44,
      "outputs": [
        {
          "output_type": "stream",
          "text": [
            "/usr/local/lib/python3.7/dist-packages/tensorflow/python/keras/engine/sequential.py:455: UserWarning: `model.predict_classes()` is deprecated and will be removed after 2021-01-01. Please use instead:* `np.argmax(model.predict(x), axis=-1)`,   if your model does multi-class classification   (e.g. if it uses a `softmax` last-layer activation).* `(model.predict(x) > 0.5).astype(\"int32\")`,   if your model does binary classification   (e.g. if it uses a `sigmoid` last-layer activation).\n",
            "  warnings.warn('`model.predict_classes()` is deprecated and '\n"
          ],
          "name": "stderr"
        }
      ]
    },
    {
      "cell_type": "code",
      "metadata": {
        "colab": {
          "base_uri": "https://localhost:8080/"
        },
        "id": "EKntIzR13nvn",
        "outputId": "5d41f6e1-515c-485d-ffbd-e26faa1c8aa1"
      },
      "source": [
        "y_pred[1]"
      ],
      "execution_count": 45,
      "outputs": [
        {
          "output_type": "execute_result",
          "data": {
            "text/plain": [
              "array([0], dtype=int32)"
            ]
          },
          "metadata": {
            "tags": []
          },
          "execution_count": 45
        }
      ]
    },
    {
      "cell_type": "code",
      "metadata": {
        "id": "LFxBrOVb3qyR"
      },
      "source": [
        "from sklearn.metrics import confusion_matrix"
      ],
      "execution_count": 46,
      "outputs": []
    },
    {
      "cell_type": "code",
      "metadata": {
        "colab": {
          "base_uri": "https://localhost:8080/"
        },
        "id": "8vUV6p4M3zLi",
        "outputId": "b15d691c-ab67-4368-b735-3672be3380b0"
      },
      "source": [
        "confusion_matrix(y_test,y_pred)"
      ],
      "execution_count": 47,
      "outputs": [
        {
          "output_type": "execute_result",
          "data": {
            "text/plain": [
              "array([[3112,  307],\n",
              "       [ 246, 2370]])"
            ]
          },
          "metadata": {
            "tags": []
          },
          "execution_count": 47
        }
      ]
    },
    {
      "cell_type": "code",
      "metadata": {
        "colab": {
          "base_uri": "https://localhost:8080/"
        },
        "id": "2DkQpsnh33tX",
        "outputId": "b2c217a4-6273-4b64-c69a-530db6e78815"
      },
      "source": [
        "from sklearn.metrics import accuracy_score\n",
        "accuracy_score(y_test, y_pred)"
      ],
      "execution_count": 48,
      "outputs": [
        {
          "output_type": "execute_result",
          "data": {
            "text/plain": [
              "0.9083678541839271"
            ]
          },
          "metadata": {
            "tags": []
          },
          "execution_count": 48
        }
      ]
    },
    {
      "cell_type": "code",
      "metadata": {
        "colab": {
          "base_uri": "https://localhost:8080/"
        },
        "id": "cTmkL70Q47-X",
        "outputId": "26c80f5c-6ecc-44d6-b36d-f35caed4887a"
      },
      "source": [
        "#adding dropout layer\n",
        "from tensorflow.keras.layers import Dropout\n",
        "dim=40\n",
        "model1 = Sequential()\n",
        "model1.add(Embedding(voc_size, dim, input_length=sent_len))\n",
        "model1.add(Dropout(0.3))\n",
        "model1.add(LSTM(100))\n",
        "model1.add(Dropout(0.3))\n",
        "model1.add(Dense(1, activation='sigmoid'))\n",
        "model1.compile(loss='binary_crossentropy',optimizer='adam',metrics=['accuracy'])\n",
        "print(model.summary())"
      ],
      "execution_count": 49,
      "outputs": [
        {
          "output_type": "stream",
          "text": [
            "Model: \"sequential_1\"\n",
            "_________________________________________________________________\n",
            "Layer (type)                 Output Shape              Param #   \n",
            "=================================================================\n",
            "embedding_1 (Embedding)      (None, 20, 40)            200000    \n",
            "_________________________________________________________________\n",
            "lstm (LSTM)                  (None, 100)               56400     \n",
            "_________________________________________________________________\n",
            "dense (Dense)                (None, 1)                 101       \n",
            "=================================================================\n",
            "Total params: 256,501\n",
            "Trainable params: 256,501\n",
            "Non-trainable params: 0\n",
            "_________________________________________________________________\n",
            "None\n"
          ],
          "name": "stdout"
        }
      ]
    },
    {
      "cell_type": "code",
      "metadata": {
        "colab": {
          "base_uri": "https://localhost:8080/"
        },
        "id": "CImpkIZY5ZAo",
        "outputId": "ceb3128c-772b-4dec-c70a-9e2d1f8f7a66"
      },
      "source": [
        "model1.fit(X_train,y_train, validation_data=(X_test,y_test), epochs=10, batch_size=64)"
      ],
      "execution_count": 50,
      "outputs": [
        {
          "output_type": "stream",
          "text": [
            "Epoch 1/10\n",
            "192/192 [==============================] - 3s 10ms/step - loss: 0.3545 - accuracy: 0.8297 - val_loss: 0.2008 - val_accuracy: 0.9105\n",
            "Epoch 2/10\n",
            "192/192 [==============================] - 2s 8ms/step - loss: 0.1521 - accuracy: 0.9400 - val_loss: 0.1990 - val_accuracy: 0.9168\n",
            "Epoch 3/10\n",
            "192/192 [==============================] - 2s 8ms/step - loss: 0.1147 - accuracy: 0.9562 - val_loss: 0.2149 - val_accuracy: 0.9137\n",
            "Epoch 4/10\n",
            "192/192 [==============================] - 2s 8ms/step - loss: 0.0910 - accuracy: 0.9660 - val_loss: 0.2195 - val_accuracy: 0.9127\n",
            "Epoch 5/10\n",
            "192/192 [==============================] - 2s 8ms/step - loss: 0.0753 - accuracy: 0.9739 - val_loss: 0.2681 - val_accuracy: 0.9070\n",
            "Epoch 6/10\n",
            "192/192 [==============================] - 2s 8ms/step - loss: 0.0563 - accuracy: 0.9802 - val_loss: 0.2842 - val_accuracy: 0.9109\n",
            "Epoch 7/10\n",
            "192/192 [==============================] - 2s 8ms/step - loss: 0.0464 - accuracy: 0.9839 - val_loss: 0.3229 - val_accuracy: 0.9001\n",
            "Epoch 8/10\n",
            "192/192 [==============================] - 2s 8ms/step - loss: 0.0389 - accuracy: 0.9878 - val_loss: 0.3935 - val_accuracy: 0.9042\n",
            "Epoch 9/10\n",
            "192/192 [==============================] - 2s 8ms/step - loss: 0.0280 - accuracy: 0.9909 - val_loss: 0.4567 - val_accuracy: 0.9110\n",
            "Epoch 10/10\n",
            "192/192 [==============================] - 2s 8ms/step - loss: 0.0258 - accuracy: 0.9918 - val_loss: 0.4333 - val_accuracy: 0.9095\n"
          ],
          "name": "stdout"
        },
        {
          "output_type": "execute_result",
          "data": {
            "text/plain": [
              "<tensorflow.python.keras.callbacks.History at 0x7f30c4cfcd10>"
            ]
          },
          "metadata": {
            "tags": []
          },
          "execution_count": 50
        }
      ]
    },
    {
      "cell_type": "code",
      "metadata": {
        "colab": {
          "base_uri": "https://localhost:8080/"
        },
        "id": "UvEF-fGu5gNv",
        "outputId": "9ffc56e4-ae08-449e-dd7b-7df88b495f9a"
      },
      "source": [
        "y_pred1=model1.predict_classes(X_test)"
      ],
      "execution_count": 51,
      "outputs": [
        {
          "output_type": "stream",
          "text": [
            "/usr/local/lib/python3.7/dist-packages/tensorflow/python/keras/engine/sequential.py:455: UserWarning: `model.predict_classes()` is deprecated and will be removed after 2021-01-01. Please use instead:* `np.argmax(model.predict(x), axis=-1)`,   if your model does multi-class classification   (e.g. if it uses a `softmax` last-layer activation).* `(model.predict(x) > 0.5).astype(\"int32\")`,   if your model does binary classification   (e.g. if it uses a `sigmoid` last-layer activation).\n",
            "  warnings.warn('`model.predict_classes()` is deprecated and '\n"
          ],
          "name": "stderr"
        }
      ]
    },
    {
      "cell_type": "code",
      "metadata": {
        "colab": {
          "base_uri": "https://localhost:8080/"
        },
        "id": "957TcUXE6CcC",
        "outputId": "f98f87b8-0133-4feb-93e6-7bdfd48c5460"
      },
      "source": [
        "accuracy_score(y_test, y_pred1)"
      ],
      "execution_count": 52,
      "outputs": [
        {
          "output_type": "execute_result",
          "data": {
            "text/plain": [
              "0.9095277547638774"
            ]
          },
          "metadata": {
            "tags": []
          },
          "execution_count": 52
        }
      ]
    },
    {
      "cell_type": "code",
      "metadata": {
        "id": "M_c5CX6S6Ifw"
      },
      "source": [
        ""
      ],
      "execution_count": 52,
      "outputs": []
    }
  ]
}